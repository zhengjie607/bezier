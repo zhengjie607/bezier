{
 "cells": [
  {
   "cell_type": "code",
   "execution_count": 1,
   "metadata": {},
   "outputs": [],
   "source": [
    "from scipy.optimize import curve_fit\n",
    "import matplotlib.pyplot as plt\n",
    "import numpy as np"
   ]
  },
  {
   "cell_type": "code",
   "execution_count": 2,
   "metadata": {},
   "outputs": [
    {
     "name": "stdout",
     "output_type": "stream",
     "text": [
      "[-0.45556059  1.90953011]\n"
     ]
    },
    {
     "data": {
      "image/png": "[encoded data removed]",
      "text/plain": [
       "<Figure size 432x288 with 1 Axes>"
      ]
     },
     "metadata": {},
     "output_type": "display_data"
    }
   ],
   "source": [
    "def func(x,a,b,c):\n",
    "    return a*np.exp(-b*x)+c\n",
    "def linfunc(x,k,b):\n",
    "    return k*x+b\n",
    "xdata=np.linspace(0,4,50)\n",
    "y=func(xdata,2.5,1.3,0.5)\n",
    "#np.random.seed(10086)\n",
    "err_stdec=0.2\n",
    "y_noise=err_stdec*np.random.normal(size=xdata.size)\n",
    "ydata=y+y_noise\n",
    "plt.plot(xdata,ydata,'b-',label='data')\n",
    "\n",
    "popt,pcov=curve_fit(linfunc,xdata,ydata)\n",
    "plt.plot(xdata,linfunc(xdata,*popt),'r-',label=\"fit\")\n",
    "print(popt)"
   ]
  },
  {
   "cell_type": "code",
   "execution_count": 3,
   "metadata": {},
   "outputs": [
    {
     "name": "stdout",
     "output_type": "stream",
     "text": [
      "[3.         2.7482863  2.52191652 2.31833889 2.13525857 1.97061177\n",
      " 1.82254252 1.6893817  1.56962823 1.4619322  1.3650796  1.27797864\n",
      " 1.19964749 1.12920315 1.06585153 1.0088785  0.95764182 0.91156393\n",
      " 0.87012542 0.83285917 0.79934508 0.76920538 0.74210031 0.71772432\n",
      " 0.69580264 0.67608816 0.65835864 0.64241422 0.62807518 0.61517987\n",
      " 0.60358293 0.59315363 0.58377441 0.57533955 0.56775395 0.56093211\n",
      " 0.55479713 0.54927986 0.54431809 0.5398559  0.53584299 0.53223412\n",
      " 0.52898861 0.52606988 0.52344502 0.52108445 0.51896155 0.5170524\n",
      " 0.51533547 0.51379141]\n"
     ]
    }
   ],
   "source": [
    "print(y)"
   ]
  },
  {
   "cell_type": "code",
   "execution_count": null,
   "metadata": {},
   "outputs": [],
   "source": []
  },
  {
   "cell_type": "code",
   "execution_count": null,
   "metadata": {},
   "outputs": [],
   "source": []
  },
  {
   "cell_type": "code",
   "execution_count": null,
   "metadata": {},
   "outputs": [],
   "source": []
  },
  {
   "cell_type": "code",
   "execution_count": null,
   "metadata": {},
   "outputs": [],
   "source": []
  },
  {
   "cell_type": "code",
   "execution_count": null,
   "metadata": {},
   "outputs": [],
   "source": []
  },
  {
   "cell_type": "code",
   "execution_count": null,
   "metadata": {},
   "outputs": [],
   "source": []
  },
  {
   "cell_type": "code",
   "execution_count": null,
   "metadata": {},
   "outputs": [],
   "source": []
  },
  {
   "cell_type": "code",
   "execution_count": null,
   "metadata": {},
   "outputs": [],
   "source": []
  },
  {
   "cell_type": "code",
   "execution_count": null,
   "metadata": {},
   "outputs": [],
   "source": []
  },
  {
   "cell_type": "code",
   "execution_count": null,
   "metadata": {},
   "outputs": [],
   "source": []
  },
  {
   "cell_type": "code",
   "execution_count": null,
   "metadata": {},
   "outputs": [],
   "source": []
  },
  {
   "cell_type": "code",
   "execution_count": null,
   "metadata": {},
   "outputs": [],
   "source": []
  },
  {
   "cell_type": "code",
   "execution_count": null,
   "metadata": {},
   "outputs": [],
   "source": []
  }
 ],
 "metadata": {
  "kernelspec": {
   "display_name": "Python 3",
   "language": "python",
   "name": "python3"
  },
  "language_info": {
   "codemirror_mode": {
    "name": "ipython",
    "version": 3
   },
   "file_extension": ".py",
   "mimetype": "text/x-python",
   "name": "python",
   "nbconvert_exporter": "python",
   "pygments_lexer": "ipython3",
   "version": "3.6.5"
  }
 },
 "nbformat": 4,
 "nbformat_minor": 2
}
