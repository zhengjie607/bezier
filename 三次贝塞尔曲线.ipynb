{
 "cells": [
  {
   "cell_type": "code",
   "execution_count": 1,
   "metadata": {},
   "outputs": [],
   "source": [
    "from __future__ import print_function\n",
    "from numpy import array\n",
    "from bezier import *\n",
    "from fitCurves import *\n",
    "from tkinter import *\n",
    "\n",
    "\n",
    "# center of bounding box\n",
    "def cntr(x1, y1, x2, y2):\n",
    "    return x1+(x2-x1)/2, y1+(y2-y1)/2\n",
    "\n",
    "\n",
    "# tkinter Canvas plus some addons\n",
    "class MyCanvas(Canvas):\n",
    "    def create_polyline(self, points, **kwargs):\n",
    "        for p1, p2 in zip(points, points[1:]):\n",
    "            self.create_line(p1, p2, kwargs)\n",
    "            #print('p1:',p1,'p2:',p2)\n",
    "            \n",
    "\n",
    "    def create_bezier(self, b, tag):\n",
    "        self.create_polyline([bezier.q(b, t/50.0).tolist() for t in range(0, 51)], tag=tag, fill='red', width='1') # there are better ways to draw a bezier\n",
    "        #self.create_line(b[0].tolist(), b[1].tolist(), tag=tag)\n",
    "        #self.create_point(b[1][0], b[1][1], 2, fill='black', tag=tag)\n",
    "        #self.create_line(b[3].tolist(), b[2].tolist(), tag=tag)\n",
    "        #self.create_point(b[2][0], b[2][1], 2, fill='black', tag=tag)\n",
    "        #self.create_point(b[0][0],b[0][1],b[0][2],b[0][3],2, fill='black', tag=tag)\n",
    "\n",
    "    def create_point(self, x, y, r, **kwargs):\n",
    "        return self.create_oval(x-r, y-r, x+r, y+r, kwargs)\n",
    "\n",
    "\n",
    "    def pos(self, idOrTag):\n",
    "        return cntr(*self.coords(idOrTag))\n",
    "\n",
    "\n",
    "    def itemsAtPos(self, x, y, tag):\n",
    "        return [item for item in self.find_overlapping(x, y, x, y) if tag in self.gettags(item)]\n",
    "\n",
    "\n",
    "class MainObject:\n",
    "    def run(self):\n",
    "        root = Tk()\n",
    "\n",
    "        self.canvas = MyCanvas(root, bg='white', width=400, height=400)\n",
    "        self.canvas.pack(side=LEFT)\n",
    "\n",
    "        frame = Frame(root, relief=SUNKEN, borderwidth=1)\n",
    "        frame.pack(side=LEFT, fill=Y)\n",
    "        label = Label(frame, text='Max Error')\n",
    "        label.pack()\n",
    "        self.spinbox = Spinbox(frame, width=8, from_=0.0, to=1000000.0, command=self.onSpinBoxValueChange)\n",
    "        self.spinbox.insert(0, 10.0)\n",
    "        self.spinbox.pack()\n",
    "\n",
    "        self.points = []\n",
    "        self.draggingPoint = None\n",
    "\n",
    "        self.canvas.bind('<ButtonPress-1>', self.onButton1Press)\n",
    "        self.canvas.bind('<ButtonPress-2>', self.onButton2Press)\n",
    "        self.canvas.bind('<B1-Motion>', self.onMouseMove)\n",
    "        self.canvas.bind('<ButtonRelease-1>', self.onButton1Release)\n",
    "\n",
    "        root.mainloop()\n",
    "\n",
    "\n",
    "    def onButton1Press(self, event):\n",
    "        items = self.canvas.itemsAtPos(event.x, event.y, 'point')\n",
    "        #print(items)\n",
    "        if items:\n",
    "            self.draggingPoint = items[0]\n",
    "            print('if')\n",
    "        else:\n",
    "            self.points.append(self.canvas.create_point(event.x, event.y, 4, fill='red', tag='point'))\n",
    "            self.redraw()\n",
    "            #print(event)\n",
    "            #print(self.points)\n",
    "\n",
    "    def onButton2Press(self, event):\n",
    "        self.canvas.delete(self.points.pop())\n",
    "        self.redraw()\n",
    "\n",
    "\n",
    "    def onMouseMove(self, event):\n",
    "        if self.draggingPoint:\n",
    "            self.canvas.coords(self.draggingPoint, event.x-4, event.y-4, event.x+4, event.y+4)\n",
    "            self.redraw()\n",
    "\n",
    "\n",
    "    def onButton1Release(self, event):\n",
    "        self.draggingPoint = None\n",
    "\n",
    "\n",
    "    def onSpinBoxValueChange(self):\n",
    "        self.redraw()\n",
    "\n",
    "\n",
    "    def redraw(self):\n",
    "        # redraw polyline\n",
    "        self.canvas.delete('polyline')\n",
    "        self.canvas.create_polyline([self.canvas.pos(pId) for pId in self.points], fill='grey', tag='polyline')\n",
    "        self.canvas.tag_lower('polyline')\n",
    "\n",
    "        # redraw bezier\n",
    "        if len(self.points) < 2:\n",
    "            return\n",
    "\n",
    "        self.canvas.delete('bezier')\n",
    "        points = array([self.canvas.pos(p) for p in self.points])\n",
    "        beziers = fitCurve(points, float(self.spinbox.get())**2)\n",
    "        print('points:',points)\n",
    "        print('type(points[0]):',type(points[0]))\n",
    "       \n",
    "        print('beziers:',beziers)\n",
    "        print('type(beziers):',type(beziers))\n",
    "        print('beziers[0]:',beziers[0])\n",
    "        print('type(beziers[0]):',type(beziers[0]))\n",
    "        print('beziers[0][0]:',beziers[0][0])\n",
    "        print('type(beziers[0][0]):',type(beziers[0][0]))\n",
    "        '''self.points.append(self.canvas.create_point(beziers[0][0][0],beziers[0][0][1],3, fill='black', tag='point'))\n",
    "        self.points.append(self.canvas.create_point(beziers[0][1][0],beziers[0][1][1],3, fill='black', tag='point'))\n",
    "        self.points.append(self.canvas.create_point(beziers[0][2][0],beziers[0][2][1],3, fill='black', tag='point'))\n",
    "        self.points.append(self.canvas.create_point(beziers[0][3][0],beziers[0][3][1],3, fill='black', tag='point'))'''\n",
    "        print('len(beziers):',len(beziers))\n",
    "        print('len(beziers[0]):',len(beziers[0]))\n",
    "        for bezier in beziers:\n",
    "            self.canvas.create_bezier(bezier, tag='bezier')\n",
    "\n",
    "\n",
    "if __name__ == '__main__':\n",
    "    o = MainObject()\n",
    "    o.run()\n",
    "\n",
    "\n",
    "\n"
   ]
  },
  {
   "cell_type": "code",
   "execution_count": 1,
   "metadata": {},
   "outputs": [
    {
     "name": "stdout",
     "output_type": "stream",
     "text": [
      "16.0,-98.6,\n",
      "22.0,-97.4,\n",
      "30.6,-95.1,\n",
      "36.5,-93.0,\n",
      "48.1,-87.5,\n",
      "53.4,-84.4,\n",
      "58.7,-80.8,\n",
      "68.2,-73.0,\n",
      "72.6,-68.7,\n",
      "76.4,-64.5,\n",
      "80.2,-59.6,\n",
      "83.8,-54.4,\n",
      "86.8,-49.5,\n",
      "89.6,-44.1,\n",
      "92.1,-38.4,\n",
      "94.2,-33.0,\n",
      "96.9,-24.4,\n",
      "99.0,-13.9,\n",
      "99.8,-5.2,\n",
      "99.7,6.2,\n",
      "98.7,15.1,\n",
      "97.5,21.2,\n",
      "95.3,29.7,\n",
      "93.4,35.5,\n",
      "88.0,47.2,\n",
      "84.8,52.7,\n",
      "81.5,57.8,\n",
      "77.5,63.0,\n",
      "73.6,67.5,\n",
      "69.3,71.9,\n",
      "64.5,76.3,\n",
      "59.8,80.0,\n",
      "51.6,85.6,\n",
      "45.3,89.0,\n",
      "39.6,91.6,\n",
      "33.7,94.0,\n",
      "25.1,96.7,\n",
      "13.9,99.0,\n",
      "5.2,99.8,\n",
      "-7.2,99.6,\n",
      "-16.0,98.6,\n",
      "-22.0,97.4,\n",
      "-30.6,95.1,\n",
      "-36.5,93.0,\n",
      "-48.1,87.5,\n",
      "-53.4,84.4,\n",
      "-58.7,80.8,\n",
      "-68.2,73.0,\n",
      "-72.6,68.7,\n",
      "-76.4,64.5,\n",
      "-80.2,59.6,\n",
      "-83.8,54.4,\n",
      "-86.8,49.5,\n",
      "-89.6,44.1,\n",
      "-92.1,38.4,\n",
      "-94.2,33.0,\n",
      "-96.9,24.4,\n",
      "-99.0,13.9,\n",
      "-99.8,5.2,\n",
      "-99.6,-7.2,\n",
      "-98.6,-16.0,\n",
      "-97.4,-22.0,\n",
      "-95.1,-30.6,\n",
      "-93.0,-36.5,\n",
      "-87.5,-48.1,\n",
      "-84.4,-53.4,\n",
      "-80.8,-58.7,\n",
      "-73.0,-68.2,\n",
      "-68.7,-72.6,\n",
      "-64.5,-76.4,\n",
      "-59.6,-80.2,\n",
      "-54.4,-83.8,\n",
      "-49.5,-86.8,\n",
      "-44.1,-89.6,\n",
      "-38.4,-92.1,\n",
      "-33.0,-94.2,\n",
      "-24.4,-96.9,\n",
      "-13.9,-99.0,\n",
      "-5.2,-99.8,\n",
      "7.2,-99.6,\n"
     ]
    }
   ],
   "source": [
    "from numpy import array\n",
    "points=[(16.000 ,-98.600),\n",
    "(22.000 ,-97.400),\n",
    "(30.600 ,-95.100),\n",
    "(36.500 ,-93.000),\n",
    "(48.100 ,-87.500),\n",
    "(53.400 ,-84.400),\n",
    "(58.700 ,-80.800),\n",
    "(68.200 ,-73.000),\n",
    "(72.600 ,-68.700),\n",
    "(76.400 ,-64.500),\n",
    "(80.200 ,-59.600),\n",
    "(83.800 ,-54.400),\n",
    "(86.800 ,-49.500),\n",
    "(89.600 ,-44.100),\n",
    "(92.100 ,-38.400),\n",
    "(94.200 ,-33.000),\n",
    "(96.900 ,-24.400),\n",
    "(99.000 ,-13.900),\n",
    "(99.800 ,-5.200 ),\n",
    "(99.700 ,6.200  ),\n",
    "(98.700 ,15.100 ),\n",
    "(97.500 ,21.200 ),\n",
    "(95.300 ,29.700 ),\n",
    "(93.400 ,35.500 ),\n",
    "(88.000 ,47.200 ),\n",
    "(84.800 ,52.700 ),\n",
    "(81.500 ,57.800 ),\n",
    "(77.500 ,63.000 ),\n",
    "(73.600 ,67.500 ),\n",
    "(69.300 ,71.900 ),\n",
    "(64.500 ,76.300 ),\n",
    "(59.800 ,80.000 ),\n",
    "(51.600 ,85.600 ),\n",
    "(45.300 ,89.000 ),\n",
    "(39.600 ,91.600 ),\n",
    "(33.700 ,94.000 ),\n",
    "(25.100 ,96.700 ),\n",
    "(13.900 ,99.000 ),\n",
    "(5.200 ,99.800  ),\n",
    "(-7.200 ,99.600 ),\n",
    "(-16.000,98.600 ),\n",
    "(-22.000,97.400 ),\n",
    "(-30.600,95.100 ),\n",
    "(-36.500,93.000 ),\n",
    "(-48.100,87.500 ),\n",
    "(-53.400,84.400 ),\n",
    "(-58.700,80.800 ),\n",
    "(-68.200,73.000 ),\n",
    "(-72.600,68.700 ),\n",
    "(-76.400,64.500 ),\n",
    "(-80.200,59.600 ),\n",
    "(-83.800,54.400 ),\n",
    "(-86.800,49.500 ),\n",
    "(-89.600,44.100 ),\n",
    "(-92.100,38.400 ),\n",
    "(-94.200,33.000 ),\n",
    "(-96.900,24.400 ),\n",
    "(-99.000,13.900 ),\n",
    "(-99.800,5.200  ),\n",
    "(-99.600,-7.200 ),\n",
    "(-98.600,-16.000),\n",
    "(-97.400,-22.000),\n",
    "(-95.100,-30.600),\n",
    "(-93.000,-36.500),\n",
    "(-87.500,-48.100),\n",
    "(-84.400,-53.400),\n",
    "(-80.800,-58.700),\n",
    "(-73.000,-68.200),\n",
    "(-68.700,-72.600),\n",
    "(-64.500,-76.400),\n",
    "(-59.600,-80.200),\n",
    "(-54.400,-83.800),\n",
    "(-49.500,-86.800),\n",
    "(-44.100,-89.600),\n",
    "(-38.400,-92.100),\n",
    "(-33.000,-94.200),\n",
    "(-24.400,-96.900),\n",
    "(-13.900,-99.000),\n",
    "(-5.200 ,-99.800),\n",
    "(7.200 ,-99.600 ),\n",
    "]\n",
    "w=array(points)\n",
    "for t in w:\n",
    "    print(str(t[0])+','+str(t[1])+',')"
   ]
  },
  {
   "cell_type": "code",
   "execution_count": 2,
   "metadata": {},
   "outputs": [
    {
     "name": "stdout",
     "output_type": "stream",
     "text": [
      "16.0,-98.6,\n",
      "31.237767766566883,-95.55244644668664,\n",
      "46.229762044455036,-90.4054535603522,\n",
      "58.7,-80.8,\n",
      "58.7,-80.8,\n",
      "77.36365439255798,-66.42394188681345,\n",
      "91.1004615721624,-47.47732999410381,\n",
      "96.9,-24.4,\n",
      "96.9,-24.4,\n",
      "109.22377079263016,24.638337945674223,\n",
      "81.45849130087805,77.20218581831183,\n",
      "33.7,94.0,\n",
      "33.7,94.0,\n",
      "20.304907895732587,98.71137722288027,\n",
      "6.95229193477324,100.40107312838339,\n",
      "-7.2,99.6,\n",
      "-7.2,99.6,\n",
      "-71.81518625178327,95.94253662725754,\n",
      "-119.35681053804832,24.190024265242883,\n",
      "-93.0,-36.5,\n",
      "-93.0,-36.5,\n",
      "-80.10745508539677,-66.18678105336272,\n",
      "-56.18684838071406,-88.91168208233366,\n",
      "-24.4,-96.9,\n",
      "-24.4,-96.9,\n",
      "-13.594971651881137,-99.61539979429165,\n",
      "-3.881464750912037,-99.77873330243406,\n",
      "7.2,-99.6,\n"
     ]
    }
   ],
   "source": [
    "from bezier import *\n",
    "from fitCurves import *\n",
    "beziers=fitCurve(w,1)\n",
    "for b in beziers:\n",
    "    for e in b:\n",
    "        print(str(e[0])+','+str(e[1])+',')"
   ]
  },
  {
   "cell_type": "code",
   "execution_count": 5,
   "metadata": {},
   "outputs": [
    {
     "name": "stdout",
     "output_type": "stream",
     "text": [
      "[[-1  3 -3  1]\n",
      " [ 3 -6  3  0]\n",
      " [-3  3  0  0]\n",
      " [ 1  0  0  0]]\n",
      "[[16.        ]\n",
      " [31.23776777]\n",
      " [46.22976204]\n",
      " [58.7       ]]\n"
     ]
    }
   ],
   "source": [
    "changshu=array([[-1,3,-3,1],[3,-6,3,0],[-3,3,0,0],[1,0,0,0]])\n",
    "print(changshu)\n",
    "X=array([[16.0],[31.237767766566883],[46.229762044455036],[58.7]])\n",
    "print(X)"
   ]
  },
  {
   "cell_type": "code",
   "execution_count": 6,
   "metadata": {},
   "outputs": [
    {
     "name": "stdout",
     "output_type": "stream",
     "text": [
      "[[-2.27598283]\n",
      " [-0.73732047]\n",
      " [45.7133033 ]\n",
      " [16.        ]]\n"
     ]
    }
   ],
   "source": [
    "xishu=changshu.dot(X)\n",
    "print(xishu)"
   ]
  },
  {
   "cell_type": "code",
   "execution_count": 7,
   "metadata": {},
   "outputs": [
    {
     "name": "stdout",
     "output_type": "stream",
     "text": [
      "[[1.04800467e-05 4.78897032e-04 2.18837161e-02 1.00000000e+00]]\n"
     ]
    }
   ],
   "source": [
    "t=0.021883716134577624\n",
    "T=array([[t**3,t**2,t,1]])\n",
    "print(T)"
   ]
  },
  {
   "cell_type": "code",
   "execution_count": 9,
   "metadata": {},
   "outputs": [
    {
     "name": "stdout",
     "output_type": "stream",
     "text": [
      "[[-98.39688364]]\n"
     ]
    }
   ],
   "source": [
    "Y=array([[-98.6],[-95.55244644668664],[-90.4054535603522],[-80.8]])\n",
    "y=T.dot(changshu.dot(Y))\n",
    "print(y)"
   ]
  },
  {
   "cell_type": "code",
   "execution_count": 79,
   "metadata": {},
   "outputs": [
    {
     "name": "stdout",
     "output_type": "stream",
     "text": [
      "<class 'sympy.core.add.Add'>\n"
     ]
    }
   ],
   "source": [
    "import sympy\n",
    "t=sympy.Symbol('t')\n",
    "q=sympy.solve(-2.27598283*t**3-0.73732047*t**2+45.7133033*t-1,t)\n",
    "print(type(q[0]))"
   ]
  },
  {
   "cell_type": "code",
   "execution_count": 76,
   "metadata": {},
   "outputs": [
    {
     "name": "stdout",
     "output_type": "stream",
     "text": [
      "-4.65704966473876 + 0.e-22*I\n",
      "(-4.65704966473876, 0.e-22)\n",
      "0.0218837161345758\n",
      "(4.31120899239112, -0.e-22*I)\n",
      "-4.65704966473876 + 0.e-22*I\n",
      "0.0218837161345758 + 0.e-22*I\n",
      "4.31120899239112 - 0.e-22*I\n",
      "<class 'sympy.core.add.Add'>\n"
     ]
    }
   ],
   "source": [
    "print(q[0])\n",
    "\n",
    "print(q[0].as_real_imag())\n",
    "\n",
    "print(q[1].as_real_imag()[0])\n",
    "print(q[2].as_coeff_Add())\n",
    "print(q[0])\n",
    "print(q[1])\n",
    "print(q[2])\n",
    "print(type(q[0]))"
   ]
  },
  {
   "cell_type": "code",
   "execution_count": 77,
   "metadata": {},
   "outputs": [
    {
     "data": {
      "text/plain": [
       "['__add__',\n",
       " '__class__',\n",
       " '__contains__',\n",
       " '__delattr__',\n",
       " '__delitem__',\n",
       " '__dir__',\n",
       " '__doc__',\n",
       " '__eq__',\n",
       " '__format__',\n",
       " '__ge__',\n",
       " '__getattribute__',\n",
       " '__getitem__',\n",
       " '__gt__',\n",
       " '__hash__',\n",
       " '__iadd__',\n",
       " '__imul__',\n",
       " '__init__',\n",
       " '__init_subclass__',\n",
       " '__iter__',\n",
       " '__le__',\n",
       " '__len__',\n",
       " '__lt__',\n",
       " '__mul__',\n",
       " '__ne__',\n",
       " '__new__',\n",
       " '__reduce__',\n",
       " '__reduce_ex__',\n",
       " '__repr__',\n",
       " '__reversed__',\n",
       " '__rmul__',\n",
       " '__setattr__',\n",
       " '__setitem__',\n",
       " '__sizeof__',\n",
       " '__str__',\n",
       " '__subclasshook__',\n",
       " 'append',\n",
       " 'clear',\n",
       " 'copy',\n",
       " 'count',\n",
       " 'extend',\n",
       " 'index',\n",
       " 'insert',\n",
       " 'pop',\n",
       " 'remove',\n",
       " 'reverse',\n",
       " 'sort']"
      ]
     },
     "execution_count": 77,
     "metadata": {},
     "output_type": "execute_result"
    }
   ],
   "source": [
    "dir(q)"
   ]
  },
  {
   "cell_type": "code",
   "execution_count": 67,
   "metadata": {},
   "outputs": [
    {
     "name": "stdout",
     "output_type": "stream",
     "text": [
      "{4.31120899239112, -0.e-22, I}\n",
      "(0.0218837161345758, 0.e-22)\n",
      "defaultdict(<class 'int'>, {1: 0.0218837161345758, I: 0.e-22})\n"
     ]
    }
   ],
   "source": [
    "print(q[2].atoms())\n",
    "print(q[1].as_real_imag())\n",
    "print(q[1].as_coefficients_dict())"
   ]
  },
  {
   "cell_type": "code",
   "execution_count": 72,
   "metadata": {},
   "outputs": [
    {
     "name": "stdout",
     "output_type": "stream",
     "text": [
      "4\n",
      "(4, 2)\n"
     ]
    }
   ],
   "source": [
    "l=array([[16.0,-98.6],[31.237767766566883,-95.55244644668664],[46.229762044455036,-90.405453560352],[58.7,-80.8,]])\n",
    "print(len(l))\n",
    "print(l.shape)"
   ]
  },
  {
   "cell_type": "code",
   "execution_count": 12,
   "metadata": {},
   "outputs": [
    {
     "data": {
      "text/plain": [
       "['__add__',\n",
       " '__class__',\n",
       " '__contains__',\n",
       " '__delattr__',\n",
       " '__delitem__',\n",
       " '__dir__',\n",
       " '__doc__',\n",
       " '__eq__',\n",
       " '__format__',\n",
       " '__ge__',\n",
       " '__getattribute__',\n",
       " '__getitem__',\n",
       " '__gt__',\n",
       " '__hash__',\n",
       " '__iadd__',\n",
       " '__imul__',\n",
       " '__init__',\n",
       " '__init_subclass__',\n",
       " '__iter__',\n",
       " '__le__',\n",
       " '__len__',\n",
       " '__lt__',\n",
       " '__mul__',\n",
       " '__ne__',\n",
       " '__new__',\n",
       " '__reduce__',\n",
       " '__reduce_ex__',\n",
       " '__repr__',\n",
       " '__reversed__',\n",
       " '__rmul__',\n",
       " '__setattr__',\n",
       " '__setitem__',\n",
       " '__sizeof__',\n",
       " '__str__',\n",
       " '__subclasshook__',\n",
       " 'append',\n",
       " 'clear',\n",
       " 'copy',\n",
       " 'count',\n",
       " 'extend',\n",
       " 'index',\n",
       " 'insert',\n",
       " 'pop',\n",
       " 'remove',\n",
       " 'reverse',\n",
       " 'sort']"
      ]
     },
     "execution_count": 12,
     "metadata": {},
     "output_type": "execute_result"
    }
   ],
   "source": [
    "dir(beziers)"
   ]
  },
  {
   "cell_type": "code",
   "execution_count": 13,
   "metadata": {},
   "outputs": [],
   "source": [
    "xishu=array([[-1,3,-3,1],[3,-6,3,0],[-3,3,0,0]])"
   ]
  },
  {
   "cell_type": "code",
   "execution_count": 14,
   "metadata": {},
   "outputs": [
    {
     "name": "stdout",
     "output_type": "stream",
     "text": [
      "(3, 4)\n"
     ]
    }
   ],
   "source": [
    "print(xishu.shape)"
   ]
  },
  {
   "cell_type": "code",
   "execution_count": 15,
   "metadata": {},
   "outputs": [
    {
     "name": "stdout",
     "output_type": "stream",
     "text": [
      "[[-1  3 -3  1]\n",
      " [ 3 -6  3  0]\n",
      " [-3  3  0  0]]\n"
     ]
    }
   ],
   "source": [
    "print(xishu)"
   ]
  },
  {
   "cell_type": "code",
   "execution_count": 16,
   "metadata": {},
   "outputs": [],
   "source": [
    "from numpy import linalg"
   ]
  },
  {
   "cell_type": "code",
   "execution_count": 17,
   "metadata": {},
   "outputs": [
    {
     "data": {
      "text/plain": [
       "['T',\n",
       " '__abs__',\n",
       " '__add__',\n",
       " '__and__',\n",
       " '__array__',\n",
       " '__array_finalize__',\n",
       " '__array_function__',\n",
       " '__array_interface__',\n",
       " '__array_prepare__',\n",
       " '__array_priority__',\n",
       " '__array_struct__',\n",
       " '__array_ufunc__',\n",
       " '__array_wrap__',\n",
       " '__bool__',\n",
       " '__class__',\n",
       " '__complex__',\n",
       " '__contains__',\n",
       " '__copy__',\n",
       " '__deepcopy__',\n",
       " '__delattr__',\n",
       " '__delitem__',\n",
       " '__dir__',\n",
       " '__divmod__',\n",
       " '__doc__',\n",
       " '__eq__',\n",
       " '__float__',\n",
       " '__floordiv__',\n",
       " '__format__',\n",
       " '__ge__',\n",
       " '__getattribute__',\n",
       " '__getitem__',\n",
       " '__gt__',\n",
       " '__hash__',\n",
       " '__iadd__',\n",
       " '__iand__',\n",
       " '__ifloordiv__',\n",
       " '__ilshift__',\n",
       " '__imatmul__',\n",
       " '__imod__',\n",
       " '__imul__',\n",
       " '__index__',\n",
       " '__init__',\n",
       " '__init_subclass__',\n",
       " '__int__',\n",
       " '__invert__',\n",
       " '__ior__',\n",
       " '__ipow__',\n",
       " '__irshift__',\n",
       " '__isub__',\n",
       " '__iter__',\n",
       " '__itruediv__',\n",
       " '__ixor__',\n",
       " '__le__',\n",
       " '__len__',\n",
       " '__lshift__',\n",
       " '__lt__',\n",
       " '__matmul__',\n",
       " '__mod__',\n",
       " '__mul__',\n",
       " '__ne__',\n",
       " '__neg__',\n",
       " '__new__',\n",
       " '__or__',\n",
       " '__pos__',\n",
       " '__pow__',\n",
       " '__radd__',\n",
       " '__rand__',\n",
       " '__rdivmod__',\n",
       " '__reduce__',\n",
       " '__reduce_ex__',\n",
       " '__repr__',\n",
       " '__rfloordiv__',\n",
       " '__rlshift__',\n",
       " '__rmatmul__',\n",
       " '__rmod__',\n",
       " '__rmul__',\n",
       " '__ror__',\n",
       " '__rpow__',\n",
       " '__rrshift__',\n",
       " '__rshift__',\n",
       " '__rsub__',\n",
       " '__rtruediv__',\n",
       " '__rxor__',\n",
       " '__setattr__',\n",
       " '__setitem__',\n",
       " '__setstate__',\n",
       " '__sizeof__',\n",
       " '__str__',\n",
       " '__sub__',\n",
       " '__subclasshook__',\n",
       " '__truediv__',\n",
       " '__xor__',\n",
       " 'all',\n",
       " 'any',\n",
       " 'argmax',\n",
       " 'argmin',\n",
       " 'argpartition',\n",
       " 'argsort',\n",
       " 'astype',\n",
       " 'base',\n",
       " 'byteswap',\n",
       " 'choose',\n",
       " 'clip',\n",
       " 'compress',\n",
       " 'conj',\n",
       " 'conjugate',\n",
       " 'copy',\n",
       " 'ctypes',\n",
       " 'cumprod',\n",
       " 'cumsum',\n",
       " 'data',\n",
       " 'diagonal',\n",
       " 'dot',\n",
       " 'dtype',\n",
       " 'dump',\n",
       " 'dumps',\n",
       " 'fill',\n",
       " 'flags',\n",
       " 'flat',\n",
       " 'flatten',\n",
       " 'getfield',\n",
       " 'imag',\n",
       " 'item',\n",
       " 'itemset',\n",
       " 'itemsize',\n",
       " 'max',\n",
       " 'mean',\n",
       " 'min',\n",
       " 'nbytes',\n",
       " 'ndim',\n",
       " 'newbyteorder',\n",
       " 'nonzero',\n",
       " 'partition',\n",
       " 'prod',\n",
       " 'ptp',\n",
       " 'put',\n",
       " 'ravel',\n",
       " 'real',\n",
       " 'repeat',\n",
       " 'reshape',\n",
       " 'resize',\n",
       " 'round',\n",
       " 'searchsorted',\n",
       " 'setfield',\n",
       " 'setflags',\n",
       " 'shape',\n",
       " 'size',\n",
       " 'sort',\n",
       " 'squeeze',\n",
       " 'std',\n",
       " 'strides',\n",
       " 'sum',\n",
       " 'swapaxes',\n",
       " 'take',\n",
       " 'tobytes',\n",
       " 'tofile',\n",
       " 'tolist',\n",
       " 'tostring',\n",
       " 'trace',\n",
       " 'transpose',\n",
       " 'var',\n",
       " 'view']"
      ]
     },
     "execution_count": 17,
     "metadata": {},
     "output_type": "execute_result"
    }
   ],
   "source": [
    "dir(xishu)"
   ]
  },
  {
   "cell_type": "code",
   "execution_count": 18,
   "metadata": {},
   "outputs": [
    {
     "ename": "LinAlgError",
     "evalue": "Last 2 dimensions of the array must be square",
     "output_type": "error",
     "traceback": [
      "\u001b[1;31m---------------------------------------------------------------------------\u001b[0m",
      "\u001b[1;31mLinAlgError\u001b[0m                               Traceback (most recent call last)",
      "\u001b[1;32m<ipython-input-18-b9ea14a9756b>\u001b[0m in \u001b[0;36m<module>\u001b[1;34m()\u001b[0m\n\u001b[1;32m----> 1\u001b[1;33m \u001b[0ma\u001b[0m\u001b[1;33m=\u001b[0m\u001b[0mlinalg\u001b[0m\u001b[1;33m.\u001b[0m\u001b[0minv\u001b[0m\u001b[1;33m(\u001b[0m\u001b[0mxishu\u001b[0m\u001b[1;33m)\u001b[0m\u001b[1;33m\u001b[0m\u001b[0m\n\u001b[0m\u001b[0;32m      2\u001b[0m \u001b[0mprint\u001b[0m\u001b[1;33m(\u001b[0m\u001b[0ma\u001b[0m\u001b[1;33m)\u001b[0m\u001b[1;33m\u001b[0m\u001b[0m\n",
      "\u001b[1;32md:\\Users\\PC\\Anaconda3\\lib\\site-packages\\numpy\\linalg\\linalg.py\u001b[0m in \u001b[0;36minv\u001b[1;34m(a)\u001b[0m\n\u001b[0;32m    544\u001b[0m     \u001b[0ma\u001b[0m\u001b[1;33m,\u001b[0m \u001b[0mwrap\u001b[0m \u001b[1;33m=\u001b[0m \u001b[0m_makearray\u001b[0m\u001b[1;33m(\u001b[0m\u001b[0ma\u001b[0m\u001b[1;33m)\u001b[0m\u001b[1;33m\u001b[0m\u001b[0m\n\u001b[0;32m    545\u001b[0m     \u001b[0m_assertRankAtLeast2\u001b[0m\u001b[1;33m(\u001b[0m\u001b[0ma\u001b[0m\u001b[1;33m)\u001b[0m\u001b[1;33m\u001b[0m\u001b[0m\n\u001b[1;32m--> 546\u001b[1;33m     \u001b[0m_assertNdSquareness\u001b[0m\u001b[1;33m(\u001b[0m\u001b[0ma\u001b[0m\u001b[1;33m)\u001b[0m\u001b[1;33m\u001b[0m\u001b[0m\n\u001b[0m\u001b[0;32m    547\u001b[0m     \u001b[0mt\u001b[0m\u001b[1;33m,\u001b[0m \u001b[0mresult_t\u001b[0m \u001b[1;33m=\u001b[0m \u001b[0m_commonType\u001b[0m\u001b[1;33m(\u001b[0m\u001b[0ma\u001b[0m\u001b[1;33m)\u001b[0m\u001b[1;33m\u001b[0m\u001b[0m\n\u001b[0;32m    548\u001b[0m \u001b[1;33m\u001b[0m\u001b[0m\n",
      "\u001b[1;32md:\\Users\\PC\\Anaconda3\\lib\\site-packages\\numpy\\linalg\\linalg.py\u001b[0m in \u001b[0;36m_assertNdSquareness\u001b[1;34m(*arrays)\u001b[0m\n\u001b[0;32m    211\u001b[0m         \u001b[0mm\u001b[0m\u001b[1;33m,\u001b[0m \u001b[0mn\u001b[0m \u001b[1;33m=\u001b[0m \u001b[0ma\u001b[0m\u001b[1;33m.\u001b[0m\u001b[0mshape\u001b[0m\u001b[1;33m[\u001b[0m\u001b[1;33m-\u001b[0m\u001b[1;36m2\u001b[0m\u001b[1;33m:\u001b[0m\u001b[1;33m]\u001b[0m\u001b[1;33m\u001b[0m\u001b[0m\n\u001b[0;32m    212\u001b[0m         \u001b[1;32mif\u001b[0m \u001b[0mm\u001b[0m \u001b[1;33m!=\u001b[0m \u001b[0mn\u001b[0m\u001b[1;33m:\u001b[0m\u001b[1;33m\u001b[0m\u001b[0m\n\u001b[1;32m--> 213\u001b[1;33m             \u001b[1;32mraise\u001b[0m \u001b[0mLinAlgError\u001b[0m\u001b[1;33m(\u001b[0m\u001b[1;34m'Last 2 dimensions of the array must be square'\u001b[0m\u001b[1;33m)\u001b[0m\u001b[1;33m\u001b[0m\u001b[0m\n\u001b[0m\u001b[0;32m    214\u001b[0m \u001b[1;33m\u001b[0m\u001b[0m\n\u001b[0;32m    215\u001b[0m \u001b[1;32mdef\u001b[0m \u001b[0m_assertFinite\u001b[0m\u001b[1;33m(\u001b[0m\u001b[1;33m*\u001b[0m\u001b[0marrays\u001b[0m\u001b[1;33m)\u001b[0m\u001b[1;33m:\u001b[0m\u001b[1;33m\u001b[0m\u001b[0m\n",
      "\u001b[1;31mLinAlgError\u001b[0m: Last 2 dimensions of the array must be square"
     ]
    }
   ],
   "source": [
    "a=linalg.inv(xishu)\n",
    "print(a)"
   ]
  },
  {
   "cell_type": "code",
   "execution_count": null,
   "metadata": {},
   "outputs": [],
   "source": [
    "print(linalg.inv(a))"
   ]
  },
  {
   "cell_type": "code",
   "execution_count": null,
   "metadata": {},
   "outputs": [],
   "source": [
    "print(a*xishu)\n",
    "print(shape(a*xishu))"
   ]
  },
  {
   "cell_type": "code",
   "execution_count": null,
   "metadata": {},
   "outputs": [],
   "source": [
    "print(a.dot(xishu))"
   ]
  },
  {
   "cell_type": "code",
   "execution_count": null,
   "metadata": {},
   "outputs": [],
   "source": [
    "import numpy as np"
   ]
  },
  {
   "cell_type": "code",
   "execution_count": null,
   "metadata": {},
   "outputs": [],
   "source": [
    "t=np.array([[0,0,0,1]])\n",
    "print(t.shape)"
   ]
  },
  {
   "cell_type": "code",
   "execution_count": null,
   "metadata": {},
   "outputs": [],
   "source": [
    "xishu=np.array([[-1,3,-3,1],[3,-6,3,0],[-3,3,0,0],[1,0,0,0]])\n",
    "\n",
    "print(xishu)"
   ]
  },
  {
   "cell_type": "code",
   "execution_count": null,
   "metadata": {},
   "outputs": [],
   "source": [
    "w=t.dot(xishu)\n",
    "print(w)"
   ]
  },
  {
   "cell_type": "code",
   "execution_count": null,
   "metadata": {},
   "outputs": [],
   "source": [
    "pt=np.array([[16.0,-98.6,31.237767766566883,-95.55244644668664],[46.229762044455036,-90.4054535603522,\n",
    "58.7,-80.8,]])\n",
    "print(pt.shape)\n"
   ]
  },
  {
   "cell_type": "code",
   "execution_count": null,
   "metadata": {},
   "outputs": [],
   "source": [
    "pt=np.transpose(pt)\n",
    "print(pt)"
   ]
  },
  {
   "cell_type": "code",
   "execution_count": null,
   "metadata": {},
   "outputs": [],
   "source": [
    "x=np.linalg.solve(xishu,pt)\n",
    "print(x)"
   ]
  },
  {
   "cell_type": "code",
   "execution_count": null,
   "metadata": {},
   "outputs": [],
   "source": [
    "A = np.array([[2,1,-2],[3,0,1],[1,1,-1]])\n",
    "b = np.transpose(np.array([[-3,5,-2]]))\n",
    "print(b)"
   ]
  },
  {
   "cell_type": "code",
   "execution_count": null,
   "metadata": {},
   "outputs": [],
   "source": [
    "x = np.linalg.solve(A,b)\n",
    "print(x)"
   ]
  },
  {
   "cell_type": "code",
   "execution_count": null,
   "metadata": {},
   "outputs": [],
   "source": [
    "a=np.array([[1,2,3,4]])\n",
    "print(a)"
   ]
  },
  {
   "cell_type": "code",
   "execution_count": null,
   "metadata": {},
   "outputs": [],
   "source": []
  },
  {
   "cell_type": "code",
   "execution_count": null,
   "metadata": {},
   "outputs": [],
   "source": [
    "b=a.T\n",
    "print(b)"
   ]
  },
  {
   "cell_type": "code",
   "execution_count": null,
   "metadata": {},
   "outputs": [],
   "source": [
    "print(b.dot(a))"
   ]
  },
  {
   "cell_type": "code",
   "execution_count": null,
   "metadata": {},
   "outputs": [],
   "source": [
    "print(a*b)"
   ]
  },
  {
   "cell_type": "code",
   "execution_count": null,
   "metadata": {},
   "outputs": [],
   "source": [
    "xishu=np.array([[-1,3,-3,1],[3,-6,3,0],[-3,3,0,0],[1,0,0,0]])\n",
    "\n",
    "print(xishu)"
   ]
  },
  {
   "cell_type": "code",
   "execution_count": null,
   "metadata": {},
   "outputs": [],
   "source": [
    "p03=np.array([[16.0,-98.6],[31.237767766566883,-95.55244644668664],[46.229762044455036,-90.4054535603522],\n",
    "[58.7,-80.8,]])\n",
    "print(p03.shape)\n",
    "print(p03)"
   ]
  },
  {
   "cell_type": "code",
   "execution_count": null,
   "metadata": {},
   "outputs": [],
   "source": [
    "q=xishu.dot(p03)\n",
    "print(q)"
   ]
  },
  {
   "cell_type": "code",
   "execution_count": null,
   "metadata": {},
   "outputs": [],
   "source": [
    "p45=np.array([[0,0],[60,-100]])\n",
    "print(p45)"
   ]
  },
  {
   "cell_type": "code",
   "execution_count": null,
   "metadata": {},
   "outputs": [],
   "source": [
    "xishu1=np.array([[-1,1],[1,0]])\n",
    "print(xishu1)"
   ]
  },
  {
   "cell_type": "code",
   "execution_count": null,
   "metadata": {},
   "outputs": [],
   "source": [
    "x=xishu1.dot(p45)\n",
    "print(x)"
   ]
  },
  {
   "cell_type": "code",
   "execution_count": null,
   "metadata": {},
   "outputs": [],
   "source": [
    "t1=0.94132\n",
    "t2=0.84865"
   ]
  },
  {
   "cell_type": "code",
   "execution_count": null,
   "metadata": {},
   "outputs": [],
   "source": [
    "sant=np.array([[t2**3,t2**2,t2,1]])\n",
    "print(sant)"
   ]
  },
  {
   "cell_type": "code",
   "execution_count": null,
   "metadata": {},
   "outputs": [],
   "source": [
    "print(sant.dot(q))"
   ]
  },
  {
   "cell_type": "code",
   "execution_count": null,
   "metadata": {},
   "outputs": [],
   "source": [
    "yit=np.array([[t1,1]])\n",
    "print(yit)"
   ]
  },
  {
   "cell_type": "code",
   "execution_count": null,
   "metadata": {},
   "outputs": [],
   "source": [
    "print(yit.dot(x))"
   ]
  },
  {
   "cell_type": "code",
   "execution_count": null,
   "metadata": {},
   "outputs": [],
   "source": [
    "print(xishu[2][1])"
   ]
  },
  {
   "cell_type": "code",
   "execution_count": null,
   "metadata": {},
   "outputs": [],
   "source": [
    "x=np.array([[16.0]])\n",
    "print(x)"
   ]
  },
  {
   "cell_type": "code",
   "execution_count": null,
   "metadata": {},
   "outputs": [],
   "source": [
    "A=np.array([[16.0],[31.237767766566883],[46.229762044455036],[58.7]])\n",
    "print(A)\n",
    "print(A.shape)"
   ]
  },
  {
   "cell_type": "code",
   "execution_count": null,
   "metadata": {},
   "outputs": [],
   "source": [
    "print(A.T)"
   ]
  },
  {
   "cell_type": "code",
   "execution_count": null,
   "metadata": {},
   "outputs": [],
   "source": [
    "mi=A.dot(A.I)\n",
    "print(mi)\n",
    "invermi=linalg.inv(mi)\n",
    "print(invermi)\n",
    "print(linalg.inv(invermi))"
   ]
  },
  {
   "cell_type": "code",
   "execution_count": null,
   "metadata": {},
   "outputs": [],
   "source": [
    "print(a*k)"
   ]
  },
  {
   "cell_type": "code",
   "execution_count": 19,
   "metadata": {},
   "outputs": [],
   "source": [
    "import numpy\n"
   ]
  },
  {
   "cell_type": "code",
   "execution_count": 29,
   "metadata": {},
   "outputs": [
    {
     "name": "stdout",
     "output_type": "stream",
     "text": [
      "[[1]]\n",
      "(1, 1)\n"
     ]
    }
   ],
   "source": [
    "x=numpy.matrix([[1]])\n",
    "print(x)\n",
    "print(x.shape)"
   ]
  },
  {
   "cell_type": "raw",
   "metadata": {},
   "source": [
    "A=numpy.matrix()"
   ]
  },
  {
   "cell_type": "code",
   "execution_count": 27,
   "metadata": {},
   "outputs": [
    {
     "data": {
      "text/plain": [
       "['A',\n",
       " 'A1',\n",
       " 'H',\n",
       " 'I',\n",
       " 'T',\n",
       " '__abs__',\n",
       " '__add__',\n",
       " '__and__',\n",
       " '__array__',\n",
       " '__array_finalize__',\n",
       " '__array_function__',\n",
       " '__array_interface__',\n",
       " '__array_prepare__',\n",
       " '__array_priority__',\n",
       " '__array_struct__',\n",
       " '__array_ufunc__',\n",
       " '__array_wrap__',\n",
       " '__bool__',\n",
       " '__class__',\n",
       " '__complex__',\n",
       " '__contains__',\n",
       " '__copy__',\n",
       " '__deepcopy__',\n",
       " '__delattr__',\n",
       " '__delitem__',\n",
       " '__dict__',\n",
       " '__dir__',\n",
       " '__divmod__',\n",
       " '__doc__',\n",
       " '__eq__',\n",
       " '__float__',\n",
       " '__floordiv__',\n",
       " '__format__',\n",
       " '__ge__',\n",
       " '__getattribute__',\n",
       " '__getitem__',\n",
       " '__gt__',\n",
       " '__hash__',\n",
       " '__iadd__',\n",
       " '__iand__',\n",
       " '__ifloordiv__',\n",
       " '__ilshift__',\n",
       " '__imatmul__',\n",
       " '__imod__',\n",
       " '__imul__',\n",
       " '__index__',\n",
       " '__init__',\n",
       " '__init_subclass__',\n",
       " '__int__',\n",
       " '__invert__',\n",
       " '__ior__',\n",
       " '__ipow__',\n",
       " '__irshift__',\n",
       " '__isub__',\n",
       " '__iter__',\n",
       " '__itruediv__',\n",
       " '__ixor__',\n",
       " '__le__',\n",
       " '__len__',\n",
       " '__lshift__',\n",
       " '__lt__',\n",
       " '__matmul__',\n",
       " '__mod__',\n",
       " '__module__',\n",
       " '__mul__',\n",
       " '__ne__',\n",
       " '__neg__',\n",
       " '__new__',\n",
       " '__or__',\n",
       " '__pos__',\n",
       " '__pow__',\n",
       " '__radd__',\n",
       " '__rand__',\n",
       " '__rdivmod__',\n",
       " '__reduce__',\n",
       " '__reduce_ex__',\n",
       " '__repr__',\n",
       " '__rfloordiv__',\n",
       " '__rlshift__',\n",
       " '__rmatmul__',\n",
       " '__rmod__',\n",
       " '__rmul__',\n",
       " '__ror__',\n",
       " '__rpow__',\n",
       " '__rrshift__',\n",
       " '__rshift__',\n",
       " '__rsub__',\n",
       " '__rtruediv__',\n",
       " '__rxor__',\n",
       " '__setattr__',\n",
       " '__setitem__',\n",
       " '__setstate__',\n",
       " '__sizeof__',\n",
       " '__str__',\n",
       " '__sub__',\n",
       " '__subclasshook__',\n",
       " '__truediv__',\n",
       " '__xor__',\n",
       " '_align',\n",
       " '_collapse',\n",
       " '_getitem',\n",
       " 'all',\n",
       " 'any',\n",
       " 'argmax',\n",
       " 'argmin',\n",
       " 'argpartition',\n",
       " 'argsort',\n",
       " 'astype',\n",
       " 'base',\n",
       " 'byteswap',\n",
       " 'choose',\n",
       " 'clip',\n",
       " 'compress',\n",
       " 'conj',\n",
       " 'conjugate',\n",
       " 'copy',\n",
       " 'ctypes',\n",
       " 'cumprod',\n",
       " 'cumsum',\n",
       " 'data',\n",
       " 'diagonal',\n",
       " 'dot',\n",
       " 'dtype',\n",
       " 'dump',\n",
       " 'dumps',\n",
       " 'fill',\n",
       " 'flags',\n",
       " 'flat',\n",
       " 'flatten',\n",
       " 'getA',\n",
       " 'getA1',\n",
       " 'getH',\n",
       " 'getI',\n",
       " 'getT',\n",
       " 'getfield',\n",
       " 'imag',\n",
       " 'item',\n",
       " 'itemset',\n",
       " 'itemsize',\n",
       " 'max',\n",
       " 'mean',\n",
       " 'min',\n",
       " 'nbytes',\n",
       " 'ndim',\n",
       " 'newbyteorder',\n",
       " 'nonzero',\n",
       " 'partition',\n",
       " 'prod',\n",
       " 'ptp',\n",
       " 'put',\n",
       " 'ravel',\n",
       " 'real',\n",
       " 'repeat',\n",
       " 'reshape',\n",
       " 'resize',\n",
       " 'round',\n",
       " 'searchsorted',\n",
       " 'setfield',\n",
       " 'setflags',\n",
       " 'shape',\n",
       " 'size',\n",
       " 'sort',\n",
       " 'squeeze',\n",
       " 'std',\n",
       " 'strides',\n",
       " 'sum',\n",
       " 'swapaxes',\n",
       " 'take',\n",
       " 'tobytes',\n",
       " 'tofile',\n",
       " 'tolist',\n",
       " 'tostring',\n",
       " 'trace',\n",
       " 'transpose',\n",
       " 'var',\n",
       " 'view']"
      ]
     },
     "execution_count": 27,
     "metadata": {},
     "output_type": "execute_result"
    }
   ],
   "source": [
    "dir(x)"
   ]
  },
  {
   "cell_type": "code",
   "execution_count": 31,
   "metadata": {},
   "outputs": [
    {
     "name": "stdout",
     "output_type": "stream",
     "text": [
      "[[16.        ]\n",
      " [31.23776777]\n",
      " [46.22976204]\n",
      " [58.7       ]]\n"
     ]
    }
   ],
   "source": [
    "A=numpy.matrix([[16],[31.237767766566883],[46.229762044455036],[58.7]])\n",
    "print(A)"
   ]
  },
  {
   "cell_type": "code",
   "execution_count": 36,
   "metadata": {},
   "outputs": [
    {
     "name": "stdout",
     "output_type": "stream",
     "text": [
      "[[0.00234787 0.00458389 0.00678385 0.00861376]]\n"
     ]
    }
   ],
   "source": [
    "invA=A.I\n",
    "print(invA)"
   ]
  },
  {
   "cell_type": "code",
   "execution_count": 64,
   "metadata": {},
   "outputs": [
    {
     "name": "stdout",
     "output_type": "stream",
     "text": [
      "[[17]]\n"
     ]
    }
   ],
   "source": [
    "x=numpy.matrix([[17]])\n",
    "print(x)"
   ]
  },
  {
   "cell_type": "code",
   "execution_count": 65,
   "metadata": {},
   "outputs": [
    {
     "name": "stdout",
     "output_type": "stream",
     "text": [
      "[[0.03991384 0.0779262  0.11532545 0.1464339 ]]\n",
      "(1, 4)\n"
     ]
    }
   ],
   "source": [
    "w=x.dot(invA)\n",
    "print(w)\n",
    "print(w.shape)"
   ]
  },
  {
   "cell_type": "code",
   "execution_count": 66,
   "metadata": {},
   "outputs": [
    {
     "name": "stdout",
     "output_type": "stream",
     "text": [
      "[[-98.6       ]\n",
      " [-95.55244645]\n",
      " [-90.40545356]\n",
      " [-80.8       ]]\n",
      "(4, 1)\n"
     ]
    }
   ],
   "source": [
    "yarr=numpy.matrix([[-98.6],[-95.55244644668664],[-90.4054535603522],[-80.8]])\n",
    "print(yarr)\n",
    "print(yarr.shape)"
   ]
  },
  {
   "cell_type": "code",
   "execution_count": 67,
   "metadata": {},
   "outputs": [],
   "source": [
    "y=w.dot(yarr)"
   ]
  },
  {
   "cell_type": "code",
   "execution_count": 68,
   "metadata": {},
   "outputs": [
    {
     "name": "stdout",
     "output_type": "stream",
     "text": [
      "[[-33.63945248]]\n"
     ]
    }
   ],
   "source": [
    "print(y)"
   ]
  },
  {
   "cell_type": "code",
   "execution_count": 73,
   "metadata": {},
   "outputs": [
    {
     "name": "stdout",
     "output_type": "stream",
     "text": [
      "[[0.1464339  0.18487571 0.24929293 0.37959939]]\n"
     ]
    }
   ],
   "source": [
    "changshu=numpy.matrix([[-1,3,-3,1],[3,-6,3,0],[-3,3,0,0],[1,0,0,0]])\n",
    "t=w.dot(changshu.I)\n",
    "print(t)"
   ]
  },
  {
   "cell_type": "code",
   "execution_count": 74,
   "metadata": {},
   "outputs": [],
   "source": [
    "t=2.63*t"
   ]
  },
  {
   "cell_type": "code",
   "execution_count": 75,
   "metadata": {},
   "outputs": [
    {
     "name": "stdout",
     "output_type": "stream",
     "text": [
      "[[0.38512115 0.48622313 0.65564041 0.9983464 ]]\n"
     ]
    }
   ],
   "source": [
    "print(t)"
   ]
  },
  {
   "cell_type": "code",
   "execution_count": 76,
   "metadata": {},
   "outputs": [
    {
     "data": {
      "text/plain": [
       "matrix([[ 1.5, -1.3,  0.7],\n",
       "        [-1. ,  0.8, -0.2],\n",
       "        [ 0.5, -0.1, -0.1]])"
      ]
     },
     "execution_count": 76,
     "metadata": {},
     "output_type": "execute_result"
    }
   ],
   "source": [
    "a=numpy.matrix([[1,2,3],[2,5,4],[3,5,1]])\n",
    "a.I\n"
   ]
  },
  {
   "cell_type": "code",
   "execution_count": 77,
   "metadata": {},
   "outputs": [
    {
     "data": {
      "text/plain": [
       "matrix([[ 1.00000000e+00, -9.71445147e-17,  2.77555756e-17],\n",
       "        [ 4.44089210e-16,  1.00000000e+00,  1.66533454e-16],\n",
       "        [ 1.11022302e-16,  1.52655666e-16,  1.00000000e+00]])"
      ]
     },
     "execution_count": 77,
     "metadata": {},
     "output_type": "execute_result"
    }
   ],
   "source": [
    "a.dot(a.I)"
   ]
  },
  {
   "cell_type": "code",
   "execution_count": 82,
   "metadata": {},
   "outputs": [],
   "source": [
    "t=1\n",
    "tt=numpy.matrix([[t**3,t**2,t,1]])"
   ]
  },
  {
   "cell_type": "code",
   "execution_count": 83,
   "metadata": {},
   "outputs": [
    {
     "data": {
      "text/plain": [
       "matrix([[58.7]])"
      ]
     },
     "execution_count": 83,
     "metadata": {},
     "output_type": "execute_result"
    }
   ],
   "source": [
    "tt.dot(changshu.dot(A))"
   ]
  },
  {
   "cell_type": "code",
   "execution_count": 84,
   "metadata": {},
   "outputs": [
    {
     "data": {
      "text/plain": [
       "matrix([[0.1464339 , 0.18487571, 0.24929293, 0.37959939]])"
      ]
     },
     "execution_count": 84,
     "metadata": {},
     "output_type": "execute_result"
    }
   ],
   "source": [
    "x.dot(A.I.dot(changshu.I))"
   ]
  },
  {
   "cell_type": "code",
   "execution_count": 85,
   "metadata": {},
   "outputs": [
    {
     "data": {
      "text/plain": [
       "matrix([[0.03756597, 0.07334231, 0.1085416 , 0.13782014],\n",
       "        [0.07334231, 0.14319062, 0.21191234, 0.26907459],\n",
       "        [0.1085416 , 0.21191234, 0.31361578, 0.39821201],\n",
       "        [0.13782014, 0.26907459, 0.39821201, 0.50562763]])"
      ]
     },
     "execution_count": 85,
     "metadata": {},
     "output_type": "execute_result"
    }
   ],
   "source": [
    "A.dot(A.I)"
   ]
  },
  {
   "cell_type": "code",
   "execution_count": 1,
   "metadata": {},
   "outputs": [],
   "source": [
    "from numpy import array\n",
    "bezier_one=array([[0,-100],[60,0]])\n",
    "bezier_three=array([[16.0,-98.6],[31.237767766566883,-95.55244644668664],[46.229762044455036,-90.4054535603522],[58.7,-80.8,]])\n",
    "bezier_one_other=array([[0,0],[60,-100]])"
   ]
  },
  {
   "cell_type": "code",
   "execution_count": 4,
   "metadata": {},
   "outputs": [
    {
     "name": "stdout",
     "output_type": "stream",
     "text": [
      "0\n",
      "61\n"
     ]
    },
    {
     "ename": "NameError",
     "evalue": "name 'bezier' is not defined",
     "output_type": "error",
     "traceback": [
      "\u001b[1;31m---------------------------------------------------------------------------\u001b[0m",
      "\u001b[1;31mNameError\u001b[0m                                 Traceback (most recent call last)",
      "\u001b[1;32m<ipython-input-4-ff231f901a69>\u001b[0m in \u001b[0;36m<module>\u001b[1;34m()\u001b[0m\n\u001b[0;32m      1\u001b[0m \u001b[1;32mimport\u001b[0m \u001b[0mbezier\u001b[0m\u001b[1;33m\u001b[0m\u001b[0m\n\u001b[0;32m      2\u001b[0m \u001b[1;33m\u001b[0m\u001b[0m\n\u001b[1;32m----> 3\u001b[1;33m \u001b[0mprint\u001b[0m\u001b[1;33m(\u001b[0m\u001b[0mbezier\u001b[0m\u001b[1;33m.\u001b[0m\u001b[0mgetNode\u001b[0m\u001b[1;33m(\u001b[0m\u001b[0mbezier_one\u001b[0m\u001b[1;33m,\u001b[0m\u001b[0mbezier_one_other\u001b[0m\u001b[1;33m)\u001b[0m\u001b[1;33m)\u001b[0m\u001b[1;33m\u001b[0m\u001b[0m\n\u001b[0m\u001b[0;32m      4\u001b[0m \u001b[0mprint\u001b[0m\u001b[1;33m(\u001b[0m\u001b[0mbezier\u001b[0m\u001b[1;33m.\u001b[0m\u001b[0mgetNode\u001b[0m\u001b[1;33m(\u001b[0m\u001b[0mbezier_one_other\u001b[0m\u001b[1;33m,\u001b[0m\u001b[0mbezier_three\u001b[0m\u001b[1;33m)\u001b[0m\u001b[1;33m)\u001b[0m\u001b[1;33m\u001b[0m\u001b[0m\n\u001b[0;32m      5\u001b[0m \u001b[0mprint\u001b[0m\u001b[1;33m(\u001b[0m\u001b[0mbezier\u001b[0m\u001b[1;33m.\u001b[0m\u001b[0mgetNode\u001b[0m\u001b[1;33m(\u001b[0m\u001b[0mbezier_one\u001b[0m\u001b[1;33m,\u001b[0m\u001b[0mbezier_three\u001b[0m\u001b[1;33m)\u001b[0m\u001b[1;33m)\u001b[0m\u001b[1;33m\u001b[0m\u001b[0m\n",
      "\u001b[1;32mF:\\python\\Curve fit\\bezier.py\u001b[0m in \u001b[0;36mgetNode\u001b[1;34m(bezier1, bezier2, count, step)\u001b[0m\n\u001b[0;32m     88\u001b[0m     \u001b[0mprint\u001b[0m\u001b[1;33m(\u001b[0m\u001b[0mbegin\u001b[0m\u001b[1;33m)\u001b[0m\u001b[1;33m\u001b[0m\u001b[0m\n\u001b[0;32m     89\u001b[0m     \u001b[0mprint\u001b[0m\u001b[1;33m(\u001b[0m\u001b[0mend\u001b[0m\u001b[1;33m)\u001b[0m\u001b[1;33m\u001b[0m\u001b[0m\n\u001b[1;32m---> 90\u001b[1;33m     \u001b[1;32mreturn\u001b[0m \u001b[0mcirculation\u001b[0m\u001b[1;33m(\u001b[0m\u001b[0mbegin\u001b[0m\u001b[1;33m,\u001b[0m\u001b[0mend\u001b[0m\u001b[1;33m,\u001b[0m\u001b[0mstep\u001b[0m\u001b[1;33m,\u001b[0m\u001b[0mbezier1\u001b[0m\u001b[1;33m,\u001b[0m\u001b[0mbezier2\u001b[0m\u001b[1;33m,\u001b[0m\u001b[1;36m1\u001b[0m\u001b[1;33m,\u001b[0m\u001b[0mcount\u001b[0m\u001b[1;33m)\u001b[0m\u001b[1;33m\u001b[0m\u001b[0m\n\u001b[0m\u001b[0;32m     91\u001b[0m \u001b[1;33m\u001b[0m\u001b[0m\n",
      "\u001b[1;32mF:\\python\\Curve fit\\bezier.py\u001b[0m in \u001b[0;36mcirculation\u001b[1;34m(begin, end, step, bezier1, bezier2, cof, timer)\u001b[0m\n\u001b[0;32m     68\u001b[0m         \u001b[1;32mif\u001b[0m \u001b[0mdelta\u001b[0m\u001b[1;33m*\u001b[0m\u001b[0mdeltay\u001b[0m\u001b[1;33m==\u001b[0m\u001b[1;36m0\u001b[0m\u001b[1;33m:\u001b[0m\u001b[1;33m\u001b[0m\u001b[0m\n\u001b[0;32m     69\u001b[0m             \u001b[0mx\u001b[0m\u001b[1;33m=\u001b[0m\u001b[0m_\u001b[0m\u001b[1;33m/\u001b[0m\u001b[0mco\u001b[0m\u001b[1;33m\u001b[0m\u001b[0m\n\u001b[1;32m---> 70\u001b[1;33m             \u001b[0my\u001b[0m\u001b[1;33m=\u001b[0m\u001b[0mx_to_y\u001b[0m\u001b[1;33m(\u001b[0m\u001b[0mbezier2\u001b[0m\u001b[1;33m,\u001b[0m\u001b[0mx\u001b[0m\u001b[1;33m)\u001b[0m\u001b[1;33m\u001b[0m\u001b[0m\n\u001b[0m\u001b[0;32m     71\u001b[0m             \u001b[1;32mreturn\u001b[0m \u001b[0mx\u001b[0m\u001b[1;33m,\u001b[0m\u001b[0my\u001b[0m\u001b[1;33m\u001b[0m\u001b[0m\n\u001b[0;32m     72\u001b[0m         \u001b[1;32mif\u001b[0m \u001b[0mdelta\u001b[0m\u001b[1;33m*\u001b[0m\u001b[0mdeltay\u001b[0m\u001b[1;33m<\u001b[0m\u001b[1;36m0\u001b[0m\u001b[1;33m:\u001b[0m\u001b[1;33m\u001b[0m\u001b[0m\n",
      "\u001b[1;31mNameError\u001b[0m: name 'bezier' is not defined"
     ]
    }
   ],
   "source": []
  },
  {
   "cell_type": "code",
   "execution_count": 5,
   "metadata": {},
   "outputs": [
    {
     "name": "stdout",
     "output_type": "stream",
     "text": [
      "0\n",
      "61\n"
     ]
    },
    {
     "ename": "NameError",
     "evalue": "name 'bezier' is not defined",
     "output_type": "error",
     "traceback": [
      "\u001b[1;31m---------------------------------------------------------------------------\u001b[0m",
      "\u001b[1;31mNameError\u001b[0m                                 Traceback (most recent call last)",
      "\u001b[1;32m<ipython-input-5-ff231f901a69>\u001b[0m in \u001b[0;36m<module>\u001b[1;34m()\u001b[0m\n\u001b[0;32m      1\u001b[0m \u001b[1;32mimport\u001b[0m \u001b[0mbezier\u001b[0m\u001b[1;33m\u001b[0m\u001b[0m\n\u001b[0;32m      2\u001b[0m \u001b[1;33m\u001b[0m\u001b[0m\n\u001b[1;32m----> 3\u001b[1;33m \u001b[0mprint\u001b[0m\u001b[1;33m(\u001b[0m\u001b[0mbezier\u001b[0m\u001b[1;33m.\u001b[0m\u001b[0mgetNode\u001b[0m\u001b[1;33m(\u001b[0m\u001b[0mbezier_one\u001b[0m\u001b[1;33m,\u001b[0m\u001b[0mbezier_one_other\u001b[0m\u001b[1;33m)\u001b[0m\u001b[1;33m)\u001b[0m\u001b[1;33m\u001b[0m\u001b[0m\n\u001b[0m\u001b[0;32m      4\u001b[0m \u001b[0mprint\u001b[0m\u001b[1;33m(\u001b[0m\u001b[0mbezier\u001b[0m\u001b[1;33m.\u001b[0m\u001b[0mgetNode\u001b[0m\u001b[1;33m(\u001b[0m\u001b[0mbezier_one_other\u001b[0m\u001b[1;33m,\u001b[0m\u001b[0mbezier_three\u001b[0m\u001b[1;33m)\u001b[0m\u001b[1;33m)\u001b[0m\u001b[1;33m\u001b[0m\u001b[0m\n\u001b[0;32m      5\u001b[0m \u001b[0mprint\u001b[0m\u001b[1;33m(\u001b[0m\u001b[0mbezier\u001b[0m\u001b[1;33m.\u001b[0m\u001b[0mgetNode\u001b[0m\u001b[1;33m(\u001b[0m\u001b[0mbezier_one\u001b[0m\u001b[1;33m,\u001b[0m\u001b[0mbezier_three\u001b[0m\u001b[1;33m)\u001b[0m\u001b[1;33m)\u001b[0m\u001b[1;33m\u001b[0m\u001b[0m\n",
      "\u001b[1;32mF:\\python\\Curve fit\\bezier.py\u001b[0m in \u001b[0;36mgetNode\u001b[1;34m(bezier1, bezier2, count, step)\u001b[0m\n\u001b[0;32m     88\u001b[0m     \u001b[0mprint\u001b[0m\u001b[1;33m(\u001b[0m\u001b[0mbegin\u001b[0m\u001b[1;33m)\u001b[0m\u001b[1;33m\u001b[0m\u001b[0m\n\u001b[0;32m     89\u001b[0m     \u001b[0mprint\u001b[0m\u001b[1;33m(\u001b[0m\u001b[0mend\u001b[0m\u001b[1;33m)\u001b[0m\u001b[1;33m\u001b[0m\u001b[0m\n\u001b[1;32m---> 90\u001b[1;33m     \u001b[1;32mreturn\u001b[0m \u001b[0mcirculation\u001b[0m\u001b[1;33m(\u001b[0m\u001b[0mbegin\u001b[0m\u001b[1;33m,\u001b[0m\u001b[0mend\u001b[0m\u001b[1;33m,\u001b[0m\u001b[0mstep\u001b[0m\u001b[1;33m,\u001b[0m\u001b[0mbezier1\u001b[0m\u001b[1;33m,\u001b[0m\u001b[0mbezier2\u001b[0m\u001b[1;33m,\u001b[0m\u001b[1;36m1\u001b[0m\u001b[1;33m,\u001b[0m\u001b[0mcount\u001b[0m\u001b[1;33m)\u001b[0m\u001b[1;33m\u001b[0m\u001b[0m\n\u001b[0m\u001b[0;32m     91\u001b[0m \u001b[1;33m\u001b[0m\u001b[0m\n",
      "\u001b[1;32mF:\\python\\Curve fit\\bezier.py\u001b[0m in \u001b[0;36mcirculation\u001b[1;34m(begin, end, step, bezier1, bezier2, cof, timer)\u001b[0m\n\u001b[0;32m     68\u001b[0m         \u001b[1;32mif\u001b[0m \u001b[0mdelta\u001b[0m\u001b[1;33m*\u001b[0m\u001b[0mdeltay\u001b[0m\u001b[1;33m==\u001b[0m\u001b[1;36m0\u001b[0m\u001b[1;33m:\u001b[0m\u001b[1;33m\u001b[0m\u001b[0m\n\u001b[0;32m     69\u001b[0m             \u001b[0mx\u001b[0m\u001b[1;33m=\u001b[0m\u001b[0m_\u001b[0m\u001b[1;33m/\u001b[0m\u001b[0mco\u001b[0m\u001b[1;33m\u001b[0m\u001b[0m\n\u001b[1;32m---> 70\u001b[1;33m             \u001b[0my\u001b[0m\u001b[1;33m=\u001b[0m\u001b[0mx_to_y\u001b[0m\u001b[1;33m(\u001b[0m\u001b[0mbezier2\u001b[0m\u001b[1;33m,\u001b[0m\u001b[0mx\u001b[0m\u001b[1;33m)\u001b[0m\u001b[1;33m\u001b[0m\u001b[0m\n\u001b[0m\u001b[0;32m     71\u001b[0m             \u001b[1;32mreturn\u001b[0m \u001b[0mx\u001b[0m\u001b[1;33m,\u001b[0m\u001b[0my\u001b[0m\u001b[1;33m\u001b[0m\u001b[0m\n\u001b[0;32m     72\u001b[0m         \u001b[1;32mif\u001b[0m \u001b[0mdelta\u001b[0m\u001b[1;33m*\u001b[0m\u001b[0mdeltay\u001b[0m\u001b[1;33m<\u001b[0m\u001b[1;36m0\u001b[0m\u001b[1;33m:\u001b[0m\u001b[1;33m\u001b[0m\u001b[0m\n",
      "\u001b[1;31mNameError\u001b[0m: name 'bezier' is not defined"
     ]
    }
   ],
   "source": [
    "import bezier\n",
    "        \n",
    "print(bezier.getNode(bezier_one,bezier_one_other))\n",
    "print(bezier.getNode(bezier_one_other,bezier_three))\n",
    "print(bezier.getNode(bezier_one,bezier_three))"
   ]
  },
  {
   "cell_type": "code",
   "execution_count": null,
   "metadata": {},
   "outputs": [],
   "source": []
  }
 ],
 "metadata": {
  "kernelspec": {
   "display_name": "Python 3",
   "language": "python",
   "name": "python3"
  },
  "language_info": {
   "codemirror_mode": {
    "name": "ipython",
    "version": 3
   },
   "file_extension": ".py",
   "mimetype": "text/x-python",
   "name": "python",
   "nbconvert_exporter": "python",
   "pygments_lexer": "ipython3",
   "version": "3.6.5"
  }
 },
 "nbformat": 4,
 "nbformat_minor": 2
}
